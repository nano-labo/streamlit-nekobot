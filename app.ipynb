{
  "nbformat": 4,
  "nbformat_minor": 0,
  "metadata": {
    "colab": {
      "provenance": [],
      "authorship_tag": "ABX9TyPbZqHtuABXWVrH+G94pzyP",
      "include_colab_link": true
    },
    "kernelspec": {
      "name": "python3",
      "display_name": "Python 3"
    },
    "language_info": {
      "name": "python"
    }
  },
  "cells": [
    {
      "cell_type": "markdown",
      "metadata": {
        "id": "view-in-github",
        "colab_type": "text"
      },
      "source": [
        "<a href=\"https://colab.research.google.com/github/nano-labo/streamlit-nekobot/blob/main/app.ipynb\" target=\"_parent\"><img src=\"https://colab.research.google.com/assets/colab-badge.svg\" alt=\"Open In Colab\"/></a>"
      ]
    },
    {
      "cell_type": "code",
      "execution_count": 1,
      "metadata": {
        "id": "5ddZcYw93-f3",
        "colab": {
          "base_uri": "https://localhost:8080/"
        },
        "outputId": "51388e94-3765-4dd2-b926-123a400b5d58"
      },
      "outputs": [
        {
          "output_type": "stream",
          "name": "stdout",
          "text": [
            "Writing app.py\n"
          ]
        }
      ],
      "source": [
        "%%writefile app.py\n",
        "import streamlit as st\n",
        "\n",
        "st.title(\"サンプルアプリ①: 簡単なWebアプリ\")\n",
        "\n",
        "input_message = st.text_input(label=\"文字数のカウント対象となるテキストを入力してください。\")\n",
        "\n",
        "text_count = len(input_message)\n",
        "\n",
        "if st.button(\"実行\"):\n",
        "\n",
        "    st.write(f\"文字数: **{text_count}**\")"
      ]
    }
  ]
}