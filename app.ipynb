{
  "nbformat": 4,
  "nbformat_minor": 0,
  "metadata": {
    "colab": {
      "provenance": [],
      "authorship_tag": "ABX9TyO2gO70ds+5YuPorqkbFL75",
      "include_colab_link": true
    },
    "kernelspec": {
      "name": "python3",
      "display_name": "Python 3"
    },
    "language_info": {
      "name": "python"
    }
  },
  "cells": [
    {
      "cell_type": "markdown",
      "metadata": {
        "id": "view-in-github",
        "colab_type": "text"
      },
      "source": [
        "<a href=\"https://colab.research.google.com/github/nano-labo/streamlit-nekobot/blob/main/app.ipynb\" target=\"_parent\"><img src=\"https://colab.research.google.com/assets/colab-badge.svg\" alt=\"Open In Colab\"/></a>"
      ]
    },
    {
      "cell_type": "code",
      "execution_count": null,
      "metadata": {
        "id": "5ddZcYw93-f3"
      },
      "outputs": [],
      "source": [
        "import streamlit as st\n",
        "\n",
        "st.title(\"サンプルアプリ①: 簡単なWebアプリ\")\n",
        "\n",
        "input_message = st.text_input(label=\"文字数のカウント対象となるテキストを入力してください。\")\n",
        "\n",
        "text_count = len(input_message)\n",
        "\n",
        "if st.button(\"実行\"):\n",
        "\n",
        "    st.write(f\"文字数: **{text_count}**\")"
      ]
    }
  ]
}